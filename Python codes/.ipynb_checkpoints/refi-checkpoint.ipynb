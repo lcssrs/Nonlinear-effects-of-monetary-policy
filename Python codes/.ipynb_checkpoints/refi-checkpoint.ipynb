{
 "cells": [
  {
   "cell_type": "code",
   "execution_count": 3,
   "id": "386a0b6e",
   "metadata": {},
   "outputs": [],
   "source": [
    "import pyautogui\n",
    "import PIL"
   ]
  },
  {
   "cell_type": "code",
   "execution_count": 4,
   "id": "9311bbd0",
   "metadata": {},
   "outputs": [
    {
     "data": {
      "text/plain": [
       "Point(x=561, y=357)"
      ]
     },
     "execution_count": 4,
     "metadata": {},
     "output_type": "execute_result"
    }
   ],
   "source": [
    "pyautogui.position()"
   ]
  },
  {
   "cell_type": "code",
   "execution_count": 5,
   "id": "04fdcace",
   "metadata": {},
   "outputs": [],
   "source": [
    "pyautogui.mouseInfo()"
   ]
  },
  {
   "cell_type": "code",
   "execution_count": null,
   "id": "ad025f7c",
   "metadata": {},
   "outputs": [],
   "source": [
    "#Minimize jupyter x=1260, y=47\n",
    "#save excel coord x=1339, y=236\n",
    "#Close post-window coor x=816, y=505\n",
    "#Save post-window coord x=739, y=506\n",
    "#Select new timeframe x=256, y=318\n",
    "# i times down-arrow\n",
    "# enter \n",
    "#Save excel..."
   ]
  },
  {
   "cell_type": "code",
   "execution_count": null,
   "id": "199f317b",
   "metadata": {},
   "outputs": [],
   "source": [
    "#Script\n",
    "#Minimize jupyter\n",
    "pyautogui.click(x=1260, y=47)\n",
    "\n",
    "#Selecting and copying text from forecast horizon box\n",
    "pyautogui.click(227,320)\n",
    "pyautogui.hotkey('ctrl', 'a')\n",
    "pyautogui.hotkey('ctrl', 'c')\n",
    "#Save excel\n",
    "pyautogui.click(x=1339, y=236, duration=2)\n",
    "pyautogui.click(x=739, y=506, duration=2)\n",
    "#Attributing name\n",
    "pyautogui.hotkey('ctrl', 'v')\n",
    "#Selecting folder\n",
    "pyautogui.click(x=1036, y=235, duration = 2)\n",
    "pyautogui.write(['G:\\\\Other computers\\\\My laptop\\\\Workarea\\\\Research\\\\ThesisII\\\\DATA\\\\Forecasts\\\\IndProd2\\\\','enter', 'enter'], interval=0.5)\n",
    "#Save\n",
    "#pyautogui.click(x=1210, y=638, duration=0.75)\n",
    "#pyautogui.sleep(10)\n",
    "for i in range(66,90):\n",
    "    #Naming window\n",
    "    #Selecting new period\n",
    "    pyautogui.click(258,319, duration=0.5)\n",
    "    pyautogui.press('down', presses=i+2, interval=0.01, _pause = 0.05)\n",
    "    pyautogui.press('enter')\n",
    "    pyautogui.sleep(0.5)\n",
    "    #Check loading\n",
    "    while pyautogui.pixelMatchesColor(290,271, (0,156,255)) != 1:\n",
    "        pyautogui.sleep(1)\n",
    "    \n",
    "    #Selecting and copying text\n",
    "    pyautogui.click(227,320, duration=0.25)\n",
    "    pyautogui.hotkey('ctrl', 'a')\n",
    "    pyautogui.hotkey('ctrl', 'c')\n",
    "    #Save excel\n",
    "    pyautogui.click(x=1339, y=236, duration = 0.75)\n",
    "    pyautogui.click(x=739, y=506, duration=2)\n",
    "    pyautogui.hotkey('ctrl', 'v')\n",
    "    #Select folder\n",
    "    pyautogui.click(x=1036, y=235, duration = 0.75)\n",
    "    pyautogui.write(['G:\\\\Other computers\\\\My laptop\\\\Workarea\\\\Research\\\\ThesisII\\\\DATA\\\\Forecasts\\\\IndProd\\\\' , 'enter', 'enter'])\n",
    "    #pyautogui.click(x=1210, y=638, duration = 0.75)\n",
    "    print(i)"
   ]
  }
 ],
 "metadata": {
  "kernelspec": {
   "display_name": "Python 3 (ipykernel)",
   "language": "python",
   "name": "python3"
  },
  "language_info": {
   "codemirror_mode": {
    "name": "ipython",
    "version": 3
   },
   "file_extension": ".py",
   "mimetype": "text/x-python",
   "name": "python",
   "nbconvert_exporter": "python",
   "pygments_lexer": "ipython3",
   "version": "3.11.7"
  }
 },
 "nbformat": 4,
 "nbformat_minor": 5
}
