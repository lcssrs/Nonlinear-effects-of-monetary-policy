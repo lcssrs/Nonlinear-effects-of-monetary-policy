{
 "cells": [
  {
   "cell_type": "code",
   "execution_count": 1,
   "id": "386a0b6e",
   "metadata": {},
   "outputs": [],
   "source": [
    "import pyautogui\n",
    "import PIL"
   ]
  },
  {
   "cell_type": "code",
   "execution_count": 41,
   "id": "9311bbd0",
   "metadata": {},
   "outputs": [
    {
     "data": {
      "text/plain": [
       "Point(x=1036, y=235)"
      ]
     },
     "execution_count": 41,
     "metadata": {},
     "output_type": "execute_result"
    }
   ],
   "source": [
    "pyautogui.position()"
   ]
  },
  {
   "cell_type": "code",
   "execution_count": 37,
   "id": "04fdcace",
   "metadata": {},
   "outputs": [],
   "source": [
    "pyautogui.mouseInfo()"
   ]
  },
  {
   "cell_type": "code",
   "execution_count": null,
   "id": "ad025f7c",
   "metadata": {},
   "outputs": [],
   "source": [
    "#Minimize jupyter x=1260, y=47\n",
    "#save excel coord x=1339, y=236\n",
    "#Close post-window coor x=816, y=505\n",
    "#Save post-window coord x=739, y=506\n",
    "#Select new timeframe x=256, y=318\n",
    "# i times down-arrow\n",
    "# enter \n",
    "#Save excel..."
   ]
  },
  {
   "cell_type": "code",
   "execution_count": 13,
   "id": "199f317b",
   "metadata": {},
   "outputs": [
    {
     "name": "stdout",
     "output_type": "stream",
     "text": [
      "66\n",
      "67\n",
      "68\n",
      "69\n",
      "70\n",
      "71\n",
      "72\n",
      "73\n",
      "74\n"
     ]
    },
    {
     "ename": "FailSafeException",
     "evalue": "PyAutoGUI fail-safe triggered from mouse moving to a corner of the screen. To disable this fail-safe, set pyautogui.FAILSAFE to False. DISABLING FAIL-SAFE IS NOT RECOMMENDED.",
     "output_type": "error",
     "traceback": [
      "\u001b[1;31m---------------------------------------------------------------------------\u001b[0m",
      "\u001b[1;31mFailSafeException\u001b[0m                         Traceback (most recent call last)",
      "Cell \u001b[1;32mIn[13], line 32\u001b[0m\n\u001b[0;32m     29\u001b[0m     pyautogui\u001b[38;5;241m.\u001b[39msleep(\u001b[38;5;241m1\u001b[39m)\n\u001b[0;32m     31\u001b[0m \u001b[38;5;66;03m#Selecting and copying text\u001b[39;00m\n\u001b[1;32m---> 32\u001b[0m \u001b[43mpyautogui\u001b[49m\u001b[38;5;241;43m.\u001b[39;49m\u001b[43mclick\u001b[49m\u001b[43m(\u001b[49m\u001b[38;5;241;43m227\u001b[39;49m\u001b[43m,\u001b[49m\u001b[38;5;241;43m320\u001b[39;49m\u001b[43m,\u001b[49m\u001b[43m \u001b[49m\u001b[43mduration\u001b[49m\u001b[38;5;241;43m=\u001b[39;49m\u001b[38;5;241;43m0.25\u001b[39;49m\u001b[43m)\u001b[49m\n\u001b[0;32m     33\u001b[0m pyautogui\u001b[38;5;241m.\u001b[39mhotkey(\u001b[38;5;124m'\u001b[39m\u001b[38;5;124mctrl\u001b[39m\u001b[38;5;124m'\u001b[39m, \u001b[38;5;124m'\u001b[39m\u001b[38;5;124ma\u001b[39m\u001b[38;5;124m'\u001b[39m)\n\u001b[0;32m     34\u001b[0m pyautogui\u001b[38;5;241m.\u001b[39mhotkey(\u001b[38;5;124m'\u001b[39m\u001b[38;5;124mctrl\u001b[39m\u001b[38;5;124m'\u001b[39m, \u001b[38;5;124m'\u001b[39m\u001b[38;5;124mc\u001b[39m\u001b[38;5;124m'\u001b[39m)\n",
      "File \u001b[1;32m~\\miniconda3\\lib\\site-packages\\pyautogui\\__init__.py:597\u001b[0m, in \u001b[0;36m_genericPyAutoGUIChecks.<locals>.wrapper\u001b[1;34m(*args, **kwargs)\u001b[0m\n\u001b[0;32m    595\u001b[0m \u001b[38;5;129m@functools\u001b[39m\u001b[38;5;241m.\u001b[39mwraps(wrappedFunction)\n\u001b[0;32m    596\u001b[0m \u001b[38;5;28;01mdef\u001b[39;00m \u001b[38;5;21mwrapper\u001b[39m(\u001b[38;5;241m*\u001b[39margs, \u001b[38;5;241m*\u001b[39m\u001b[38;5;241m*\u001b[39mkwargs):\n\u001b[1;32m--> 597\u001b[0m     \u001b[43mfailSafeCheck\u001b[49m\u001b[43m(\u001b[49m\u001b[43m)\u001b[49m\n\u001b[0;32m    598\u001b[0m     returnVal \u001b[38;5;241m=\u001b[39m wrappedFunction(\u001b[38;5;241m*\u001b[39margs, \u001b[38;5;241m*\u001b[39m\u001b[38;5;241m*\u001b[39mkwargs)\n\u001b[0;32m    599\u001b[0m     _handlePause(kwargs\u001b[38;5;241m.\u001b[39mget(\u001b[38;5;124m\"\u001b[39m\u001b[38;5;124m_pause\u001b[39m\u001b[38;5;124m\"\u001b[39m, \u001b[38;5;28;01mTrue\u001b[39;00m))\n",
      "File \u001b[1;32m~\\miniconda3\\lib\\site-packages\\pyautogui\\__init__.py:1722\u001b[0m, in \u001b[0;36mfailSafeCheck\u001b[1;34m()\u001b[0m\n\u001b[0;32m   1720\u001b[0m \u001b[38;5;28;01mdef\u001b[39;00m \u001b[38;5;21mfailSafeCheck\u001b[39m():\n\u001b[0;32m   1721\u001b[0m     \u001b[38;5;28;01mif\u001b[39;00m FAILSAFE \u001b[38;5;129;01mand\u001b[39;00m \u001b[38;5;28mtuple\u001b[39m(position()) \u001b[38;5;129;01min\u001b[39;00m FAILSAFE_POINTS:\n\u001b[1;32m-> 1722\u001b[0m         \u001b[38;5;28;01mraise\u001b[39;00m FailSafeException(\n\u001b[0;32m   1723\u001b[0m             \u001b[38;5;124m\"\u001b[39m\u001b[38;5;124mPyAutoGUI fail-safe triggered from mouse moving to a corner of the screen. To disable this fail-safe, set pyautogui.FAILSAFE to False. DISABLING FAIL-SAFE IS NOT RECOMMENDED.\u001b[39m\u001b[38;5;124m\"\u001b[39m\n\u001b[0;32m   1724\u001b[0m         )\n",
      "\u001b[1;31mFailSafeException\u001b[0m: PyAutoGUI fail-safe triggered from mouse moving to a corner of the screen. To disable this fail-safe, set pyautogui.FAILSAFE to False. DISABLING FAIL-SAFE IS NOT RECOMMENDED."
     ]
    }
   ],
   "source": [
    "#Script\n",
    "#Minimize jupyter\n",
    "pyautogui.click(x=1260, y=47)\n",
    "\n",
    "#Selecting and copying text from forecast horizon box\n",
    "pyautogui.click(227,320)\n",
    "pyautogui.hotkey('ctrl', 'a')\n",
    "pyautogui.hotkey('ctrl', 'c')\n",
    "#Save excel\n",
    "pyautogui.click(x=1339, y=236, duration=2)\n",
    "pyautogui.click(x=739, y=506, duration=2)\n",
    "#Attributing name\n",
    "pyautogui.hotkey('ctrl', 'v')\n",
    "#Selecting folder\n",
    "pyautogui.click(x=1036, y=235, duration = 2)\n",
    "pyautogui.write(['G:\\\\Other computers\\\\My laptop\\\\Workarea\\\\Research\\\\ThesisII\\\\DATA\\\\Forecasts\\\\IndProd2\\\\','enter', 'enter'], interval=0.5)\n",
    "#Save\n",
    "#pyautogui.click(x=1210, y=638, duration=0.75)\n",
    "#pyautogui.sleep(10)\n",
    "for i in range(66,90):\n",
    "    #Naming window\n",
    "    #Selecting new period\n",
    "    pyautogui.click(258,319, duration=0.5)\n",
    "    pyautogui.press('down', presses=i+2, interval=0.01, _pause = 0.05)\n",
    "    pyautogui.press('enter')\n",
    "    pyautogui.sleep(0.5)\n",
    "    #Check loading\n",
    "    while pyautogui.pixelMatchesColor(290,271, (0,156,255)) != 1:\n",
    "        pyautogui.sleep(1)\n",
    "    \n",
    "    #Selecting and copying text\n",
    "    pyautogui.click(227,320, duration=0.25)\n",
    "    pyautogui.hotkey('ctrl', 'a')\n",
    "    pyautogui.hotkey('ctrl', 'c')\n",
    "    #Save excel\n",
    "    pyautogui.click(x=1339, y=236, duration = 0.75)\n",
    "    pyautogui.click(x=739, y=506, duration=2)\n",
    "    pyautogui.hotkey('ctrl', 'v')\n",
    "    #Select folder\n",
    "    pyautogui.click(x=1036, y=235, duration = 0.75)\n",
    "    pyautogui.write(['G:\\\\Other computers\\\\My laptop\\\\Workarea\\\\Research\\\\ThesisII\\\\DATA\\\\Forecasts\\\\IndProd\\\\' , 'enter', 'enter'])\n",
    "    #pyautogui.click(x=1210, y=638, duration = 0.75)\n",
    "    print(i)"
   ]
  },
  {
   "cell_type": "code",
   "execution_count": 71,
   "id": "a2b75bb6",
   "metadata": {},
   "outputs": [
    {
     "name": "stdout",
     "output_type": "stream",
     "text": [
      "Help on function press in module pyautogui:\n",
      "\n",
      "press(keys, presses=1, interval=0.0, logScreenshot=None, _pause=True)\n",
      "    Performs a keyboard key press down, followed by a release.\n",
      "    \n",
      "    Args:\n",
      "      key (str, list): The key to be pressed. The valid names are listed in\n",
      "      KEYBOARD_KEYS. Can also be a list of such strings.\n",
      "      presses (integer, optional): The number of press repetitions.\n",
      "      1 by default, for just one press.\n",
      "      interval (float, optional): How many seconds between each press.\n",
      "      0.0 by default, for no pause between presses.\n",
      "      pause (float, optional): How many seconds in the end of function process.\n",
      "      None by default, for no pause in the end of function process.\n",
      "    Returns:\n",
      "      None\n",
      "\n"
     ]
    }
   ],
   "source": [
    "help(pyautogui.press)"
   ]
  },
  {
   "cell_type": "code",
   "execution_count": 92,
   "id": "e8b6c161",
   "metadata": {},
   "outputs": [
    {
     "name": "stdout",
     "output_type": "stream",
     "text": [
      "3\n",
      "4\n"
     ]
    }
   ],
   "source": [
    "for i in range(3,5):\n",
    "    print(i)"
   ]
  },
  {
   "cell_type": "code",
   "execution_count": 12,
   "id": "2f462a8e",
   "metadata": {},
   "outputs": [],
   "source": [
    "pyautogui.click(258,319, duration=0.5)"
   ]
  },
  {
   "cell_type": "code",
   "execution_count": 54,
   "id": "616e1ac1",
   "metadata": {
    "scrolled": false
   },
   "outputs": [],
   "source": []
  },
  {
   "cell_type": "code",
   "execution_count": 55,
   "id": "0afafda2",
   "metadata": {},
   "outputs": [
    {
     "ename": "SyntaxError",
     "evalue": "invalid syntax (2362532663.py, line 1)",
     "output_type": "error",
     "traceback": [
      "\u001b[1;36m  Cell \u001b[1;32mIn[55], line 1\u001b[1;36m\u001b[0m\n\u001b[1;33m    G:|OTHER COMPUTERS|MY LAPTOP|WORKAREA|RESEARCH|THESISII|DATA|FORECASTS|UNEMPLOYMENT\u001b[0m\n\u001b[1;37m      ^\u001b[0m\n\u001b[1;31mSyntaxError\u001b[0m\u001b[1;31m:\u001b[0m invalid syntax\n"
     ]
    }
   ],
   "source": [
    "G:|OTHER COMPUTERS|MY LAPTOP|WORKAREA|RESEARCH|THESISII|DATA|FORECASTS|UNEMPLOYMENT"
   ]
  }
 ],
 "metadata": {
  "kernelspec": {
   "display_name": "Python 3 (ipykernel)",
   "language": "python",
   "name": "python3"
  },
  "language_info": {
   "codemirror_mode": {
    "name": "ipython",
    "version": 3
   },
   "file_extension": ".py",
   "mimetype": "text/x-python",
   "name": "python",
   "nbconvert_exporter": "python",
   "pygments_lexer": "ipython3",
   "version": "3.10.10"
  }
 },
 "nbformat": 4,
 "nbformat_minor": 5
}
